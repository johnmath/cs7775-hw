{
 "cells": [
  {
   "cell_type": "markdown",
   "id": "420a2d9a-5ac5-4785-8d17-279ecc290ce1",
   "metadata": {},
   "source": [
    "# Small CNN Architecture\n",
    "\n",
    "This is an example of a small convolutional neural network that should take about a minute/epoch to train on FashionMNIST. The model has two convolutional layers and three fully connected layers. \n",
    "\n",
    "To instantiate a SmallCNN model, call the SmallCNN function with parenthesis `model = SmallCNN()`. Once the model is instantiated, you can enable gradient computations by calling `model.train()` before a training loop. To disable gradient computations (e.g. when testing or performing inference), call `model.eval()`.\n",
    "\n",
    "Training the model several times may take a while. To circumvent this once a model has been trained for each of the HW problems, use `torch.save(model, <filename>.pth)` and `torch.load(<filename.pth>)`."
   ]
  },
  {
   "cell_type": "code",
   "execution_count": null,
   "id": "f17417a8-aeed-48d7-90b2-b48132037549",
   "metadata": {},
   "outputs": [],
   "source": [
    "import torch\n",
    "import torch.nn as nn\n",
    "\n",
    "class SmallCNN(nn.Module):\n",
    "    \n",
    "    def __init__(self):\n",
    "        super(SmallCNN, self).__init__()\n",
    "        \n",
    "        self.layer1 = nn.Sequential(\n",
    "            nn.Conv2d(in_channels=1, out_channels=32, kernel_size=3, padding=1),\n",
    "            nn.BatchNorm2d(32),\n",
    "            nn.ReLU(),\n",
    "            nn.MaxPool2d(kernel_size=2, stride=2)\n",
    "        )\n",
    "        \n",
    "        self.layer2 = nn.Sequential(\n",
    "            nn.Conv2d(in_channels=32, out_channels=64, kernel_size=3),\n",
    "            nn.BatchNorm2d(64),\n",
    "            nn.ReLU(),\n",
    "            nn.MaxPool2d(2)\n",
    "        )\n",
    "        self.fc1 = nn.Linear(in_features=64*6*6, out_features=600)\n",
    "        self.drop = nn.Dropout(0.25)\n",
    "        self.fc2 = nn.Linear(in_features=600, out_features=120)\n",
    "        self.fc3 = nn.Linear(in_features=120, out_features=10)\n",
    "        \n",
    "    def forward(self, x):\n",
    "        out = self.layer1(x)\n",
    "        out = self.layer2(out)\n",
    "        out = out.view(out.size(0), -1)\n",
    "        out = self.fc1(out)\n",
    "        out = nn.functional.relu(out)\n",
    "        out = self.drop(out)\n",
    "        out = self.fc2(out)\n",
    "        out = nn.functional.relu(out)\n",
    "        out = self.fc3(out)\n",
    "        return out"
   ]
  },
  {
   "cell_type": "markdown",
   "id": "662e2937-ceb6-4add-ad99-364d2c7ff435",
   "metadata": {},
   "source": [
    "--------\n",
    "# Loading Fashion-MNIST using PyTorch"
   ]
  },
  {
   "cell_type": "code",
   "execution_count": null,
   "id": "c069a986-adca-44b7-b5e0-7022022c96c0",
   "metadata": {},
   "outputs": [],
   "source": [
    "from torchvision.datasets import FashionMNIST\n",
    "import torchvision.transforms as T\n",
    "\n",
    "def load_fmnist_torch(root=\"./data\", transform=None, download=True):\n",
    "    \n",
    "    if transform == None:\n",
    "        transform = T.ToTensor()\n",
    "    \n",
    "    train_set = FashionMNIST(root=root,  transform=transform, download=download, train=True)\n",
    "    test_set = FashionMNIST(root=root,  transform=transform, download=download, train=False)\n",
    "    \n",
    "    # Each item in this dictionary is a torch Dataset object\n",
    "    # To feed the data into a model, you may have to use a DataLoader \n",
    "    return {\"train\": train_set, \"test\": test_set}"
   ]
  }
 ],
 "metadata": {
  "kernelspec": {
   "display_name": "Python 3 (ipykernel)",
   "language": "python",
   "name": "python3"
  },
  "language_info": {
   "codemirror_mode": {
    "name": "ipython",
    "version": 3
   },
   "file_extension": ".py",
   "mimetype": "text/x-python",
   "name": "python",
   "nbconvert_exporter": "python",
   "pygments_lexer": "ipython3",
   "version": "3.8.16"
  }
 },
 "nbformat": 4,
 "nbformat_minor": 5
}
