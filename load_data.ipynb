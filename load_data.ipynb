{
 "cells": [
  {
   "cell_type": "markdown",
   "id": "a71b8c1b-8b0f-4ede-8583-4630327bb0aa",
   "metadata": {},
   "source": [
    "# Fashion-MNIST"
   ]
  },
  {
   "cell_type": "markdown",
   "id": "634bf219-956f-4779-b978-20fc6a8f653e",
   "metadata": {},
   "source": [
    "### Loading Fashion-MNIST using PyTorch"
   ]
  },
  {
   "cell_type": "code",
   "execution_count": 1,
   "id": "162ff285-b98b-4ba9-a9dd-57f58ffd476c",
   "metadata": {},
   "outputs": [],
   "source": [
    "from torchvision.datasets import FashionMNIST\n",
    "import torchvision.transforms as T\n",
    "\n",
    "def load_fmnist_torch(root=\"./data\", transform=None, download=True):\n",
    "    \n",
    "    if transform == None:\n",
    "        transform = T.ToTensor()\n",
    "    \n",
    "    train_set = FashionMNIST(root=root,  transform=transform, download=download, train=True)\n",
    "    test_set = FashionMNIST(root=root,  transform=transform, download=download, train=False)\n",
    "    \n",
    "    # Each item in this dictionary is a torch Dataset object\n",
    "    # To feed the data into a model, you may have to use a DataLoader \n",
    "    return {\"train\": train_set, \"test\": test_set}"
   ]
  },
  {
   "cell_type": "markdown",
   "id": "8c56d449-d175-41f2-b9c3-94efeaed6ed2",
   "metadata": {},
   "source": [
    "### Loading Fashion-MNIST using scikit-learn\n",
    "This code fetches a NumPy array, X, where each row at index i is an image with a corresponding label at y[i] "
   ]
  },
  {
   "cell_type": "code",
   "execution_count": 2,
   "id": "33242e16-12d6-4346-9eed-76ed70d73d04",
   "metadata": {},
   "outputs": [],
   "source": [
    "from sklearn.datasets import fetch_openml\n",
    "import numpy as np\n",
    "\n",
    "def load_fmnist_numpy():\n",
    "    # Fetching this dataset may take a while\n",
    "    data_dict = fetch_openml('Fashion-MNIST', as_frame=False, data_home=\"./data\")\n",
    "    \n",
    "    # Normalize images\n",
    "    X = data_dict[\"data\"]/255\n",
    "    \n",
    "    # Convert labels to integers\n",
    "    y = data_dict[\"target\"].astype(np.uint8)\n",
    "    \n",
    "    return X, y"
   ]
  },
  {
   "cell_type": "markdown",
   "id": "f631f48e-ea2d-46b6-9686-6c61b3d24f8e",
   "metadata": {},
   "source": [
    "### Visualizing an element from the scikit-learn dataset"
   ]
  },
  {
   "cell_type": "code",
   "execution_count": 3,
   "id": "a39ccf3a-21d9-4771-95f9-9298bbe67927",
   "metadata": {},
   "outputs": [
    {
     "data": {
      "text/plain": [
       "<matplotlib.image.AxesImage at 0x7fde159cfa90>"
      ]
     },
     "execution_count": 3,
     "metadata": {},
     "output_type": "execute_result"
    },
    {
     "data": {
      "image/png": "[encoded data removed]",
      "text/plain": [
       "<Figure size 640x480 with 1 Axes>"
      ]
     },
     "metadata": {},
     "output_type": "display_data"
    }
   ],
   "source": [
    "import matplotlib.pyplot as plt\n",
    "import random\n",
    "\n",
    "\n",
    "X, y = load_fmnist_numpy()\n",
    "\n",
    "plt.imshow(X[random.randint(0,len(X)-1)].reshape(28,28), cmap=\"gray\")"
   ]
  },
  {
   "cell_type": "markdown",
   "id": "993babfe-36e1-4907-aedd-bc62e73dd853",
   "metadata": {},
   "source": [
    "-------"
   ]
  },
  {
   "cell_type": "markdown",
   "id": "2956950e-7d79-42f2-abc6-dd4a283250df",
   "metadata": {},
   "source": [
    "# UCI Adult\n",
    "\n",
    "This code loads and processes the UCI Adult dataset using Pandas dataframes. The dataset can be obtained by clicking the \"Download\" button on [this website](https://archive.ics.uci.edu/dataset/2/adult). Once you have downloaded and extracted the .zip file, move the files `adult.data` and `adult.test` to `./data/adult`."
   ]
  },
  {
   "cell_type": "code",
   "execution_count": 4,
   "id": "871e2ac8-7efe-45e7-9629-9a3cd3d99b61",
   "metadata": {},
   "outputs": [],
   "source": [
    "import pandas as pd\n",
    "\n",
    "def load_adult(one_hot=True):\n",
    "        \"\"\"Load the Adult dataset.\"\"\"\n",
    "\n",
    "        filename_train = './data/adult/adult.data'\n",
    "        filename_test = './data/adult/adult.test'\n",
    "        \n",
    "        names = [\"age\", \"workclass\", \"fnlwgt\", \"education\", \"education-num\", \"marital-status\",\n",
    "                 \"occupation\", \"relationship\", \"race\", \"sex\", \"capital-gain\", \"capital-loss\", \n",
    "                 \"hours-per-week\", \"native-country\", \"class\"]\n",
    "        \n",
    "        df_train = pd.read_csv(filename_train, names=names)\n",
    "        df_test = pd.read_csv(filename_test, names=names, skiprows = 1)\n",
    "\n",
    "        # Separate Labels from inputs\n",
    "        df_train['class'] = df_train['class'].astype('category')\n",
    "        cat_columns = df_train.select_dtypes(['category']).columns\n",
    "        df_train[cat_columns] = df_train[cat_columns].apply(lambda x: x.cat.codes)\n",
    "        df_test['class'] = df_test['class'].astype('category')\n",
    "        cat_columns = df_test.select_dtypes(['category']).columns\n",
    "        df_test[cat_columns] = df_test[cat_columns].apply(lambda x: x.cat.codes)\n",
    "\n",
    "        cont_cols = [\"age\", \"fnlwgt\", \"education-num\", \"capital-gain\", \"capital-loss\", \"hours-per-week\"]\n",
    "        cat_cols = [\"workclass\", \"education\", \"marital-status\", \"occupation\", \"relationship\", \"race\", \"sex\", \"native-country\"]\n",
    "        \n",
    "        df = pd.concat([df_train, df_test])\n",
    "        \n",
    "        for col in cat_cols:\n",
    "            df[col] = df[col].astype('category')\n",
    "\n",
    "        if one_hot==False:\n",
    "            return df_train, df_test\n",
    "        else:\n",
    "            df_one_hot = pd.get_dummies(df)\n",
    "            df_one_hot['labels'] = df_one_hot['class']\n",
    "            df_one_hot = df_one_hot.drop(['class'],axis=1)\n",
    "\n",
    "            # Normalize continuous columns\n",
    "            df_one_hot[cont_cols] = df_one_hot[cont_cols]/(df_one_hot[cont_cols].max())\n",
    "            df_one_hot[cont_cols] = df_one_hot[cont_cols].round(3)\n",
    "\n",
    "            df_train_one_hot = df_one_hot[:len(df_train)]\n",
    "            df_test_one_hot = df_one_hot[len(df_train):]\n",
    "            \n",
    "            # Returns both original and one-hot encoded train/test data as dataframes\n",
    "            return df_train, df_test, df_train_one_hot, df_test_one_hot        "
   ]
  },
  {
   "cell_type": "markdown",
   "id": "4fdd9796-ec58-4b0e-bb42-a0ca065bfbfe",
   "metadata": {},
   "source": [
    "### Visualizing a column from UCI Adult"
   ]
  },
  {
   "cell_type": "code",
   "execution_count": 5,
   "id": "af0f90b2-1695-46db-b247-40891a2d87fe",
   "metadata": {},
   "outputs": [
    {
     "data": {
      "image/png": "[encoded data removed]",
      "text/plain": [
       "<Figure size 640x480 with 1 Axes>"
      ]
     },
     "metadata": {},
     "output_type": "display_data"
    }
   ],
   "source": [
    "import matplotlib.pyplot as plt\n",
    "\n",
    "df_train, _, _, _ = load_adult()\n",
    "\n",
    "histogram = plt.hist(df_train[\"age\"], density=True)"
   ]
  },
  {
   "cell_type": "markdown",
   "id": "393d573d-ed72-45d9-bc38-74e3136b7efd",
   "metadata": {},
   "source": [
    "------------"
   ]
  }
 ],
 "metadata": {
  "kernelspec": {
   "display_name": "Python 3 (ipykernel)",
   "language": "python",
   "name": "python3"
  },
  "language_info": {
   "codemirror_mode": {
    "name": "ipython",
    "version": 3
   },
   "file_extension": ".py",
   "mimetype": "text/x-python",
   "name": "python",
   "nbconvert_exporter": "python",
   "pygments_lexer": "ipython3",
   "version": "3.8.16"
  }
 },
 "nbformat": 4,
 "nbformat_minor": 5
}
